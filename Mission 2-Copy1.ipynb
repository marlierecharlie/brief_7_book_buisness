{
 "cells": [
  {
   "cell_type": "markdown",
   "id": "79fb36d4",
   "metadata": {},
   "source": [
    "Maintenant, je souhaite connaître le montant total des achats "
   ]
  },
  {
   "cell_type": "code",
   "execution_count": 129,
   "id": "898437f9",
   "metadata": {},
   "outputs": [],
   "source": [
    "import pandas as pd\n",
    "import numpy as np\n",
    "import matplotlib.pyplot as plt"
   ]
  },
  {
   "cell_type": "code",
   "execution_count": 130,
   "id": "e4e3687e",
   "metadata": {},
   "outputs": [],
   "source": [
    "vc = pd.read_csv('ventes_clean.csv')\n",
    "pc = pd.read_csv('produits_clean.csv')\n",
    "clients = pd.read_csv('clients.csv')"
   ]
  },
  {
   "cell_type": "code",
   "execution_count": 131,
   "id": "b285f03a",
   "metadata": {},
   "outputs": [
    {
     "data": {
      "text/html": [
       "<div>\n",
       "<style scoped>\n",
       "    .dataframe tbody tr th:only-of-type {\n",
       "        vertical-align: middle;\n",
       "    }\n",
       "\n",
       "    .dataframe tbody tr th {\n",
       "        vertical-align: top;\n",
       "    }\n",
       "\n",
       "    .dataframe thead th {\n",
       "        text-align: right;\n",
       "    }\n",
       "</style>\n",
       "<table border=\"1\" class=\"dataframe\">\n",
       "  <thead>\n",
       "    <tr style=\"text-align: right;\">\n",
       "      <th></th>\n",
       "      <th>Unnamed: 0</th>\n",
       "      <th>id_prod</th>\n",
       "      <th>date</th>\n",
       "      <th>session_id</th>\n",
       "      <th>client_id</th>\n",
       "    </tr>\n",
       "  </thead>\n",
       "  <tbody>\n",
       "    <tr>\n",
       "      <th>0</th>\n",
       "      <td>0</td>\n",
       "      <td>0_1483</td>\n",
       "      <td>2021-04-10 18:37:28.723910</td>\n",
       "      <td>s_18746</td>\n",
       "      <td>c_4450</td>\n",
       "    </tr>\n",
       "    <tr>\n",
       "      <th>1</th>\n",
       "      <td>1</td>\n",
       "      <td>2_226</td>\n",
       "      <td>2022-02-03 01:55:53.276402</td>\n",
       "      <td>s_159142</td>\n",
       "      <td>c_277</td>\n",
       "    </tr>\n",
       "    <tr>\n",
       "      <th>2</th>\n",
       "      <td>2</td>\n",
       "      <td>1_374</td>\n",
       "      <td>2021-09-23 15:13:46.938559</td>\n",
       "      <td>s_94290</td>\n",
       "      <td>c_4270</td>\n",
       "    </tr>\n",
       "    <tr>\n",
       "      <th>3</th>\n",
       "      <td>3</td>\n",
       "      <td>0_2186</td>\n",
       "      <td>2021-10-17 03:27:18.783634</td>\n",
       "      <td>s_105936</td>\n",
       "      <td>c_4597</td>\n",
       "    </tr>\n",
       "    <tr>\n",
       "      <th>4</th>\n",
       "      <td>4</td>\n",
       "      <td>0_1351</td>\n",
       "      <td>2021-07-17 20:34:25.800563</td>\n",
       "      <td>s_63642</td>\n",
       "      <td>c_1242</td>\n",
       "    </tr>\n",
       "    <tr>\n",
       "      <th>...</th>\n",
       "      <td>...</td>\n",
       "      <td>...</td>\n",
       "      <td>...</td>\n",
       "      <td>...</td>\n",
       "      <td>...</td>\n",
       "    </tr>\n",
       "    <tr>\n",
       "      <th>336811</th>\n",
       "      <td>337011</td>\n",
       "      <td>1_671</td>\n",
       "      <td>2021-05-28 12:35:46.214839</td>\n",
       "      <td>s_40720</td>\n",
       "      <td>c_3454</td>\n",
       "    </tr>\n",
       "    <tr>\n",
       "      <th>336812</th>\n",
       "      <td>337012</td>\n",
       "      <td>0_759</td>\n",
       "      <td>2021-06-19 00:19:23.917703</td>\n",
       "      <td>s_50568</td>\n",
       "      <td>c_6268</td>\n",
       "    </tr>\n",
       "    <tr>\n",
       "      <th>336813</th>\n",
       "      <td>337013</td>\n",
       "      <td>0_1256</td>\n",
       "      <td>2021-03-16 17:31:59.442007</td>\n",
       "      <td>s_7219</td>\n",
       "      <td>c_4137</td>\n",
       "    </tr>\n",
       "    <tr>\n",
       "      <th>336814</th>\n",
       "      <td>337014</td>\n",
       "      <td>2_227</td>\n",
       "      <td>2021-10-30 16:50:15.997750</td>\n",
       "      <td>s_112349</td>\n",
       "      <td>c_5</td>\n",
       "    </tr>\n",
       "    <tr>\n",
       "      <th>336815</th>\n",
       "      <td>337015</td>\n",
       "      <td>0_1417</td>\n",
       "      <td>2021-06-26 14:38:19.732946</td>\n",
       "      <td>s_54117</td>\n",
       "      <td>c_6714</td>\n",
       "    </tr>\n",
       "  </tbody>\n",
       "</table>\n",
       "<p>336816 rows × 5 columns</p>\n",
       "</div>"
      ],
      "text/plain": [
       "        Unnamed: 0 id_prod                        date session_id client_id\n",
       "0                0  0_1483  2021-04-10 18:37:28.723910    s_18746    c_4450\n",
       "1                1   2_226  2022-02-03 01:55:53.276402   s_159142     c_277\n",
       "2                2   1_374  2021-09-23 15:13:46.938559    s_94290    c_4270\n",
       "3                3  0_2186  2021-10-17 03:27:18.783634   s_105936    c_4597\n",
       "4                4  0_1351  2021-07-17 20:34:25.800563    s_63642    c_1242\n",
       "...            ...     ...                         ...        ...       ...\n",
       "336811      337011   1_671  2021-05-28 12:35:46.214839    s_40720    c_3454\n",
       "336812      337012   0_759  2021-06-19 00:19:23.917703    s_50568    c_6268\n",
       "336813      337013  0_1256  2021-03-16 17:31:59.442007     s_7219    c_4137\n",
       "336814      337014   2_227  2021-10-30 16:50:15.997750   s_112349       c_5\n",
       "336815      337015  0_1417  2021-06-26 14:38:19.732946    s_54117    c_6714\n",
       "\n",
       "[336816 rows x 5 columns]"
      ]
     },
     "execution_count": 131,
     "metadata": {},
     "output_type": "execute_result"
    }
   ],
   "source": [
    "vc"
   ]
  },
  {
   "cell_type": "code",
   "execution_count": 132,
   "id": "51e6f7e2",
   "metadata": {},
   "outputs": [
    {
     "data": {
      "text/html": [
       "<div>\n",
       "<style scoped>\n",
       "    .dataframe tbody tr th:only-of-type {\n",
       "        vertical-align: middle;\n",
       "    }\n",
       "\n",
       "    .dataframe tbody tr th {\n",
       "        vertical-align: top;\n",
       "    }\n",
       "\n",
       "    .dataframe thead th {\n",
       "        text-align: right;\n",
       "    }\n",
       "</style>\n",
       "<table border=\"1\" class=\"dataframe\">\n",
       "  <thead>\n",
       "    <tr style=\"text-align: right;\">\n",
       "      <th></th>\n",
       "      <th>Unnamed: 0</th>\n",
       "      <th>id_prod</th>\n",
       "      <th>price</th>\n",
       "      <th>categ</th>\n",
       "    </tr>\n",
       "  </thead>\n",
       "  <tbody>\n",
       "    <tr>\n",
       "      <th>0</th>\n",
       "      <td>0</td>\n",
       "      <td>0_1421</td>\n",
       "      <td>19.99</td>\n",
       "      <td>0</td>\n",
       "    </tr>\n",
       "    <tr>\n",
       "      <th>1</th>\n",
       "      <td>1</td>\n",
       "      <td>0_1368</td>\n",
       "      <td>5.13</td>\n",
       "      <td>0</td>\n",
       "    </tr>\n",
       "    <tr>\n",
       "      <th>2</th>\n",
       "      <td>2</td>\n",
       "      <td>0_731</td>\n",
       "      <td>17.99</td>\n",
       "      <td>0</td>\n",
       "    </tr>\n",
       "    <tr>\n",
       "      <th>3</th>\n",
       "      <td>3</td>\n",
       "      <td>1_587</td>\n",
       "      <td>4.99</td>\n",
       "      <td>1</td>\n",
       "    </tr>\n",
       "    <tr>\n",
       "      <th>4</th>\n",
       "      <td>4</td>\n",
       "      <td>0_1507</td>\n",
       "      <td>3.99</td>\n",
       "      <td>0</td>\n",
       "    </tr>\n",
       "    <tr>\n",
       "      <th>...</th>\n",
       "      <td>...</td>\n",
       "      <td>...</td>\n",
       "      <td>...</td>\n",
       "      <td>...</td>\n",
       "    </tr>\n",
       "    <tr>\n",
       "      <th>3281</th>\n",
       "      <td>3282</td>\n",
       "      <td>2_23</td>\n",
       "      <td>115.99</td>\n",
       "      <td>2</td>\n",
       "    </tr>\n",
       "    <tr>\n",
       "      <th>3282</th>\n",
       "      <td>3283</td>\n",
       "      <td>0_146</td>\n",
       "      <td>17.14</td>\n",
       "      <td>0</td>\n",
       "    </tr>\n",
       "    <tr>\n",
       "      <th>3283</th>\n",
       "      <td>3284</td>\n",
       "      <td>0_802</td>\n",
       "      <td>11.22</td>\n",
       "      <td>0</td>\n",
       "    </tr>\n",
       "    <tr>\n",
       "      <th>3284</th>\n",
       "      <td>3285</td>\n",
       "      <td>1_140</td>\n",
       "      <td>38.56</td>\n",
       "      <td>1</td>\n",
       "    </tr>\n",
       "    <tr>\n",
       "      <th>3285</th>\n",
       "      <td>3286</td>\n",
       "      <td>0_1920</td>\n",
       "      <td>25.16</td>\n",
       "      <td>0</td>\n",
       "    </tr>\n",
       "  </tbody>\n",
       "</table>\n",
       "<p>3286 rows × 4 columns</p>\n",
       "</div>"
      ],
      "text/plain": [
       "      Unnamed: 0 id_prod   price  categ\n",
       "0              0  0_1421   19.99      0\n",
       "1              1  0_1368    5.13      0\n",
       "2              2   0_731   17.99      0\n",
       "3              3   1_587    4.99      1\n",
       "4              4  0_1507    3.99      0\n",
       "...          ...     ...     ...    ...\n",
       "3281        3282    2_23  115.99      2\n",
       "3282        3283   0_146   17.14      0\n",
       "3283        3284   0_802   11.22      0\n",
       "3284        3285   1_140   38.56      1\n",
       "3285        3286  0_1920   25.16      0\n",
       "\n",
       "[3286 rows x 4 columns]"
      ]
     },
     "execution_count": 132,
     "metadata": {},
     "output_type": "execute_result"
    }
   ],
   "source": [
    "pc"
   ]
  },
  {
   "cell_type": "code",
   "execution_count": 133,
   "id": "0917e71f",
   "metadata": {},
   "outputs": [
    {
     "data": {
      "text/html": [
       "<div>\n",
       "<style scoped>\n",
       "    .dataframe tbody tr th:only-of-type {\n",
       "        vertical-align: middle;\n",
       "    }\n",
       "\n",
       "    .dataframe tbody tr th {\n",
       "        vertical-align: top;\n",
       "    }\n",
       "\n",
       "    .dataframe thead th {\n",
       "        text-align: right;\n",
       "    }\n",
       "</style>\n",
       "<table border=\"1\" class=\"dataframe\">\n",
       "  <thead>\n",
       "    <tr style=\"text-align: right;\">\n",
       "      <th></th>\n",
       "      <th>Unnamed: 0_x</th>\n",
       "      <th>id_prod</th>\n",
       "      <th>date</th>\n",
       "      <th>session_id</th>\n",
       "      <th>client_id</th>\n",
       "      <th>Unnamed: 0_y</th>\n",
       "      <th>price</th>\n",
       "      <th>categ</th>\n",
       "    </tr>\n",
       "  </thead>\n",
       "  <tbody>\n",
       "    <tr>\n",
       "      <th>0</th>\n",
       "      <td>0</td>\n",
       "      <td>0_1483</td>\n",
       "      <td>2021-04-10 18:37:28.723910</td>\n",
       "      <td>s_18746</td>\n",
       "      <td>c_4450</td>\n",
       "      <td>1897.0</td>\n",
       "      <td>4.99</td>\n",
       "      <td>0.0</td>\n",
       "    </tr>\n",
       "    <tr>\n",
       "      <th>1</th>\n",
       "      <td>1</td>\n",
       "      <td>2_226</td>\n",
       "      <td>2022-02-03 01:55:53.276402</td>\n",
       "      <td>s_159142</td>\n",
       "      <td>c_277</td>\n",
       "      <td>289.0</td>\n",
       "      <td>65.75</td>\n",
       "      <td>2.0</td>\n",
       "    </tr>\n",
       "    <tr>\n",
       "      <th>2</th>\n",
       "      <td>2</td>\n",
       "      <td>1_374</td>\n",
       "      <td>2021-09-23 15:13:46.938559</td>\n",
       "      <td>s_94290</td>\n",
       "      <td>c_4270</td>\n",
       "      <td>221.0</td>\n",
       "      <td>10.71</td>\n",
       "      <td>1.0</td>\n",
       "    </tr>\n",
       "    <tr>\n",
       "      <th>3</th>\n",
       "      <td>3</td>\n",
       "      <td>0_2186</td>\n",
       "      <td>2021-10-17 03:27:18.783634</td>\n",
       "      <td>s_105936</td>\n",
       "      <td>c_4597</td>\n",
       "      <td>446.0</td>\n",
       "      <td>4.20</td>\n",
       "      <td>0.0</td>\n",
       "    </tr>\n",
       "    <tr>\n",
       "      <th>4</th>\n",
       "      <td>4</td>\n",
       "      <td>0_1351</td>\n",
       "      <td>2021-07-17 20:34:25.800563</td>\n",
       "      <td>s_63642</td>\n",
       "      <td>c_1242</td>\n",
       "      <td>1024.0</td>\n",
       "      <td>8.99</td>\n",
       "      <td>0.0</td>\n",
       "    </tr>\n",
       "    <tr>\n",
       "      <th>...</th>\n",
       "      <td>...</td>\n",
       "      <td>...</td>\n",
       "      <td>...</td>\n",
       "      <td>...</td>\n",
       "      <td>...</td>\n",
       "      <td>...</td>\n",
       "      <td>...</td>\n",
       "      <td>...</td>\n",
       "    </tr>\n",
       "    <tr>\n",
       "      <th>336811</th>\n",
       "      <td>337011</td>\n",
       "      <td>1_671</td>\n",
       "      <td>2021-05-28 12:35:46.214839</td>\n",
       "      <td>s_40720</td>\n",
       "      <td>c_3454</td>\n",
       "      <td>625.0</td>\n",
       "      <td>31.99</td>\n",
       "      <td>1.0</td>\n",
       "    </tr>\n",
       "    <tr>\n",
       "      <th>336812</th>\n",
       "      <td>337012</td>\n",
       "      <td>0_759</td>\n",
       "      <td>2021-06-19 00:19:23.917703</td>\n",
       "      <td>s_50568</td>\n",
       "      <td>c_6268</td>\n",
       "      <td>2467.0</td>\n",
       "      <td>22.99</td>\n",
       "      <td>0.0</td>\n",
       "    </tr>\n",
       "    <tr>\n",
       "      <th>336813</th>\n",
       "      <td>337013</td>\n",
       "      <td>0_1256</td>\n",
       "      <td>2021-03-16 17:31:59.442007</td>\n",
       "      <td>s_7219</td>\n",
       "      <td>c_4137</td>\n",
       "      <td>565.0</td>\n",
       "      <td>11.03</td>\n",
       "      <td>0.0</td>\n",
       "    </tr>\n",
       "    <tr>\n",
       "      <th>336814</th>\n",
       "      <td>337014</td>\n",
       "      <td>2_227</td>\n",
       "      <td>2021-10-30 16:50:15.997750</td>\n",
       "      <td>s_112349</td>\n",
       "      <td>c_5</td>\n",
       "      <td>2274.0</td>\n",
       "      <td>50.99</td>\n",
       "      <td>2.0</td>\n",
       "    </tr>\n",
       "    <tr>\n",
       "      <th>336815</th>\n",
       "      <td>337015</td>\n",
       "      <td>0_1417</td>\n",
       "      <td>2021-06-26 14:38:19.732946</td>\n",
       "      <td>s_54117</td>\n",
       "      <td>c_6714</td>\n",
       "      <td>1469.0</td>\n",
       "      <td>17.99</td>\n",
       "      <td>0.0</td>\n",
       "    </tr>\n",
       "  </tbody>\n",
       "</table>\n",
       "<p>336816 rows × 8 columns</p>\n",
       "</div>"
      ],
      "text/plain": [
       "        Unnamed: 0_x id_prod                        date session_id client_id  \\\n",
       "0                  0  0_1483  2021-04-10 18:37:28.723910    s_18746    c_4450   \n",
       "1                  1   2_226  2022-02-03 01:55:53.276402   s_159142     c_277   \n",
       "2                  2   1_374  2021-09-23 15:13:46.938559    s_94290    c_4270   \n",
       "3                  3  0_2186  2021-10-17 03:27:18.783634   s_105936    c_4597   \n",
       "4                  4  0_1351  2021-07-17 20:34:25.800563    s_63642    c_1242   \n",
       "...              ...     ...                         ...        ...       ...   \n",
       "336811        337011   1_671  2021-05-28 12:35:46.214839    s_40720    c_3454   \n",
       "336812        337012   0_759  2021-06-19 00:19:23.917703    s_50568    c_6268   \n",
       "336813        337013  0_1256  2021-03-16 17:31:59.442007     s_7219    c_4137   \n",
       "336814        337014   2_227  2021-10-30 16:50:15.997750   s_112349       c_5   \n",
       "336815        337015  0_1417  2021-06-26 14:38:19.732946    s_54117    c_6714   \n",
       "\n",
       "        Unnamed: 0_y  price  categ  \n",
       "0             1897.0   4.99    0.0  \n",
       "1              289.0  65.75    2.0  \n",
       "2              221.0  10.71    1.0  \n",
       "3              446.0   4.20    0.0  \n",
       "4             1024.0   8.99    0.0  \n",
       "...              ...    ...    ...  \n",
       "336811         625.0  31.99    1.0  \n",
       "336812        2467.0  22.99    0.0  \n",
       "336813         565.0  11.03    0.0  \n",
       "336814        2274.0  50.99    2.0  \n",
       "336815        1469.0  17.99    0.0  \n",
       "\n",
       "[336816 rows x 8 columns]"
      ]
     },
     "execution_count": 133,
     "metadata": {},
     "output_type": "execute_result"
    }
   ],
   "source": [
    "# pour pouvoir obtenir ma clonne, je dois lier les 2 tables sur les id produits \n",
    "tt_vc = vc.merge(pc, how='left', left_on='id_prod', right_on='id_prod')\n",
    "tt_vc"
   ]
  },
  {
   "cell_type": "code",
   "execution_count": 134,
   "id": "a7fc2c1d",
   "metadata": {},
   "outputs": [],
   "source": [
    "# étendue des dates : de mars 2021 au 28 février 2022"
   ]
  },
  {
   "cell_type": "code",
   "execution_count": 135,
   "id": "cbc70c9d",
   "metadata": {},
   "outputs": [
    {
     "data": {
      "text/plain": [
       "5796577.770000001"
      ]
     },
     "execution_count": 135,
     "metadata": {},
     "output_type": "execute_result"
    }
   ],
   "source": [
    "tt_vc['price'].sum()\n",
    "# le total des ventes représente 5 796 577 euros de mars 2021 au 28 février 2022"
   ]
  },
  {
   "cell_type": "markdown",
   "id": "02d68e68",
   "metadata": {},
   "source": [
    "Maintenant, je souhaite connaître la fréquence d’achat : le nombre d'achats par mois"
   ]
  },
  {
   "cell_type": "code",
   "execution_count": 136,
   "id": "4ddff2a2",
   "metadata": {},
   "outputs": [
    {
     "data": {
      "text/plain": [
       "date    object\n",
       "dtype: object"
      ]
     },
     "execution_count": 136,
     "metadata": {},
     "output_type": "execute_result"
    }
   ],
   "source": [
    "a = pd.DataFrame(tt_vc[\"date\"])\n",
    "a.dtypes\n",
    "# dtype objet = str"
   ]
  },
  {
   "cell_type": "code",
   "execution_count": 137,
   "id": "cb2d8091",
   "metadata": {},
   "outputs": [
    {
     "data": {
      "text/plain": [
       "0        2021-04-10 18:37:28.723910\n",
       "1        2022-02-03 01:55:53.276402\n",
       "2        2021-09-23 15:13:46.938559\n",
       "3        2021-10-17 03:27:18.783634\n",
       "4        2021-07-17 20:34:25.800563\n",
       "                    ...            \n",
       "336811   2021-05-28 12:35:46.214839\n",
       "336812   2021-06-19 00:19:23.917703\n",
       "336813   2021-03-16 17:31:59.442007\n",
       "336814   2021-10-30 16:50:15.997750\n",
       "336815   2021-06-26 14:38:19.732946\n",
       "Name: date, Length: 336816, dtype: datetime64[ns]"
      ]
     },
     "execution_count": 137,
     "metadata": {},
     "output_type": "execute_result"
    }
   ],
   "source": [
    "a['date'] = pd.to_datetime(tt_vc.date)\n",
    "a['date']"
   ]
  },
  {
   "cell_type": "code",
   "execution_count": 138,
   "id": "e6596b22",
   "metadata": {},
   "outputs": [
    {
     "data": {
      "text/plain": [
       "'2021-04-10 18:37:28.723910'"
      ]
     },
     "execution_count": 138,
     "metadata": {},
     "output_type": "execute_result"
    }
   ],
   "source": [
    "tt_vc[\"date\"].values[0]\n",
    "# j'affiche la première ligne de la série "
   ]
  },
  {
   "cell_type": "code",
   "execution_count": 142,
   "id": "fae653a3",
   "metadata": {},
   "outputs": [
    {
     "data": {
      "text/plain": [
       "Text(0.5, 1.0, \"Quantité d'achats par mois\")"
      ]
     },
     "execution_count": 142,
     "metadata": {},
     "output_type": "execute_result"
    },
    {
     "data": {
      "image/png": "[encoded data removed]",
      "text/plain": [
       "<Figure size 432x288 with 1 Axes>"
      ]
     },
     "metadata": {
      "needs_background": "light"
     },
     "output_type": "display_data"
    }
   ],
   "source": [
    "a['date'].apply( lambda x : x.strftime('20%y-%m')).value_counts().plot.bar()\n",
    "plt.xlabel(\"temps (en mois)\")\n",
    "plt.ylabel(\"nombre d'achats\")\n",
    "plt.title(\"Quantité d'achats par mois\")\n"
   ]
  },
  {
   "cell_type": "markdown",
   "id": "1d76fc61",
   "metadata": {},
   "source": [
    "analyse : Le nombre de ventes le plus important a eu lieu en septembre et en \n",
    "    décembre, ce qui correspond à la rentrée littéraire et qui est logique. \n",
    "    Le nombre de ventes reste stable ensuite et décroit pour les périodes de grandes vacances. \n",
    "    Le mois le plus creu est octobre, on peut penser que c'est suite aux importants achats de la rentrée. "
   ]
  },
  {
   "cell_type": "markdown",
   "id": "5832815a",
   "metadata": {},
   "source": [
    "Maintenant je vais me concentrer sur la répartition des tarifs  par catégories\n"
   ]
  },
  {
   "cell_type": "code",
   "execution_count": 143,
   "id": "f1e01903",
   "metadata": {},
   "outputs": [
    {
     "data": {
      "text/plain": [
       "[0.0, 2.0, 1.0]"
      ]
     },
     "execution_count": 143,
     "metadata": {},
     "output_type": "execute_result"
    }
   ],
   "source": [
    "modalite = tt_vc[\"categ\"].unique()\n",
    "\n",
    "modalite = list(modalite)\n",
    "del modalite[3]\n",
    "\n",
    "modalite\n",
    "\n",
    "# modalite avait un élèment nan à enlever "
   ]
  },
  {
   "cell_type": "code",
   "execution_count": 144,
   "id": "3e26fb5a",
   "metadata": {},
   "outputs": [
    {
     "data": {
      "text/plain": [
       "[0          4.99\n",
       " 3          4.20\n",
       " 4          8.99\n",
       " 5          3.99\n",
       " 6          8.03\n",
       "           ...  \n",
       " 336806     3.99\n",
       " 336809    11.99\n",
       " 336812    22.99\n",
       " 336813    11.03\n",
       " 336815    17.99\n",
       " Name: price, Length: 209426, dtype: float64,\n",
       " 1          65.75\n",
       " 27         68.99\n",
       " 73         54.87\n",
       " 111        82.99\n",
       " 132        60.96\n",
       "            ...  \n",
       " 336679     43.99\n",
       " 336730     41.31\n",
       " 336795     87.40\n",
       " 336800    181.99\n",
       " 336814     50.99\n",
       " Name: price, Length: 17552, dtype: float64,\n",
       " 2         10.71\n",
       " 15        23.99\n",
       " 16        14.99\n",
       " 20        15.99\n",
       " 23        25.79\n",
       "           ...  \n",
       " 336802    23.99\n",
       " 336807    23.20\n",
       " 336808    17.99\n",
       " 336810    23.37\n",
       " 336811    31.99\n",
       " Name: price, Length: 109735, dtype: float64]"
      ]
     },
     "execution_count": 144,
     "metadata": {},
     "output_type": "execute_result"
    }
   ],
   "source": [
    "groupes = []\n",
    "for m in modalite:\n",
    "    groupes.append(tt_vc[tt_vc['categ']==m]['price'])\n",
    "groupes"
   ]
  },
  {
   "cell_type": "code",
   "execution_count": 147,
   "id": "c7cc0bab",
   "metadata": {},
   "outputs": [
    {
     "data": {
      "text/plain": [
       "Text(0.5, 1.0, 'Prix des articles en fonction de leur catégorie')"
      ]
     },
     "execution_count": 147,
     "metadata": {},
     "output_type": "execute_result"
    },
    {
     "data": {
      "image/png": "[encoded data removed]",
      "text/plain": [
       "<Figure size 432x288 with 1 Axes>"
      ]
     },
     "metadata": {
      "needs_background": "light"
     },
     "output_type": "display_data"
    }
   ],
   "source": [
    "plt.boxplot(groupes, labels = modalite)\n",
    "plt.xlabel(\"catégories\")\n",
    "plt.ylabel(\"prix\")\n",
    "plt.title(\"Prix des articles en fonction de leur catégorie\")"
   ]
  },
  {
   "cell_type": "markdown",
   "id": "7ea530ec",
   "metadata": {},
   "source": [
    "analyse : les prix les plus bas se trouvent dans la catégorie 0 et ne dépassent pas les 50 euros.\n",
    "    La catégorie 1 commence légèrement plus haut et monte jusqu'à 100 euros \n",
    "    Les prix de la catégorie 2 vont d'une 40 aine d'euros à 300 euros. \n",
    "    On note que plus les catégories montent en gamme de prix, plus la distribution des prix est importante. \n",
    "    Les outliers ne sont pas si étonnants, il font simplement référence à une petite quantité de prix se situant au dessus du\n",
    "    75e percentile. Encore une fois, plus les gammes de prix sont élevées, plus leur distribuion est importante. "
   ]
  },
  {
   "cell_type": "code",
   "execution_count": null,
   "id": "d0337203",
   "metadata": {},
   "outputs": [],
   "source": []
  }
 ],
 "metadata": {
  "kernelspec": {
   "display_name": "Python 3 (ipykernel)",
   "language": "python",
   "name": "python3"
  },
  "language_info": {
   "codemirror_mode": {
    "name": "ipython",
    "version": 3
   },
   "file_extension": ".py",
   "mimetype": "text/x-python",
   "name": "python",
   "nbconvert_exporter": "python",
   "pygments_lexer": "ipython3",
   "version": "3.9.12"
  }
 },
 "nbformat": 4,
 "nbformat_minor": 5
}
