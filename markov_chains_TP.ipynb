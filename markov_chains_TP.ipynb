{
 "cells": [
  {
   "cell_type": "markdown",
   "id": "a8f936a2",
   "metadata": {},
   "source": [
    "# Markov Chains "
   ]
  },
  {
   "cell_type": "code",
   "execution_count": 34,
   "id": "7d53e98f",
   "metadata": {},
   "outputs": [],
   "source": [
    "import numpy as np\n",
    "import matplotlib.pyplot as plt\n",
    "import seaborn as sns\n",
    "import pandas as pd"
   ]
  },
  {
   "cell_type": "markdown",
   "id": "6153405b",
   "metadata": {},
   "source": [
    "💫 Imagine that your cat and yourself have a superpower: the power of teleportation 💫\n",
    "\n",
    "🐱 Your cat Emily is quite young and is discovering her superpower. \n",
    "\n",
    "She can use it only in three cities:\n",
    "- 🇫🇷 Paris\n",
    "- 🇬🇧 London\n",
    "- 🇩🇪 Berlin\n",
    "\n",
    "And she can teleport herself from one city to the other only once per day!\n",
    "\n",
    "😱 Since you've been focusing on the Data Science challenges, you've just realised that you don't know where she's gone.\n",
    "\n",
    "👉 However, based on some intuition, you \"know\" that:\n",
    "- from Paris, she will:\n",
    "    - stay in Paris tomorrow with probability 1/3\n",
    "    - move to London with probability 1/3\n",
    "    - move to Berlin with probability 1/3\n",
    "\n",
    "- from London, she will:\n",
    "    - move to Paris with probability 35%\n",
    "    - stay in London with probability 35%\n",
    "    - move to Berlin with probability 30%\n",
    "\n",
    "- from Berlin, she will:\n",
    "    - move to Paris with probability 15%\n",
    "    - move to London with probability 20%\n",
    "    - stay in Berlin tomorrow with probability 65%\n"
   ]
  },
  {
   "cell_type": "markdown",
   "id": "275a86b0",
   "metadata": {},
   "source": [
    "## 🐱 1) Modelling the cat's movement"
   ]
  },
  {
   "cell_type": "markdown",
   "id": "625d3651",
   "metadata": {},
   "source": [
    "### 1.1) Draft"
   ]
  },
  {
   "cell_type": "markdown",
   "id": "368a12a8",
   "metadata": {},
   "source": [
    "✍️ Take a pen and a piece of paper to visualise Emily's moves."
   ]
  },
  {
   "cell_type": "markdown",
   "id": "08910a56",
   "metadata": {},
   "source": [
    "<details>\n",
    "   <summary>👀 Visual representation of this Markov Chain ( do it yourself first !)</summary>\n",
    "\n",
    "\n",
    "</details>"
   ]
  },
  {
   "cell_type": "markdown",
   "id": "678e6588",
   "metadata": {},
   "source": [
    "### ✈️ 1.2) Transitions"
   ]
  },
  {
   "cell_type": "markdown",
   "id": "d0fdee13",
   "metadata": {},
   "source": [
    "We'll create for you the [`transition_matrix`](https://en.wikipedia.org/wiki/Stochastic_matrix) Q that represents these moves between `[\"paris\", \"london\", \"berlin\"]`\n",
    "\n",
    "\n",
    "If the probability of moving from `i` to `j` in one time step is $P(j|i) = P_{i,j}$, the transition matrix `Q` is given by using $P_{i,j}$ as the i-th row and j-th column element, e.g.,\n",
    "\n",
    "$${\\begin{bmatrix}P_{1,1}&P_{1,2}&\\dots &P_{1,j}&\\dots &P_{1,S}\\\\P_{2,1}&P_{2,2}&\\dots &P_{2,j}&\\dots &P_{2,S}\\\\\\vdots &\\vdots &\\ddots &\\vdots &\\ddots &\\vdots \\\\P_{i,1}&P_{i,2}&\\dots &P_{i,j}&\\dots &P_{i,S}\\\\\\vdots &\\vdots &\\ddots &\\vdots &\\ddots &\\vdots \\\\P_{S,1}&P_{S,2}&\\dots &P_{S,j}&\\dots &P_{S,S}\\\\\\end{bmatrix}}$$\n",
    "\n",
    "So for Emily, the transition matrix will be :\n",
    "\n",
    "$${\\begin{bmatrix}\n",
    "P_{Paris \\rightarrow Paris}&P_{Paris \\rightarrow London} &P_{Paris \\rightarrow Berlin}\\\\\n",
    "P_{London \\rightarrow Paris}&P_{London \\rightarrow London}&P_{London \\rightarrow Berlin}\\\\\n",
    "P_{Berlin \\rightarrow Paris}&P_{Berlin \\rightarrow London}&P_{Berlin \\rightarrow Berlin}\\\\\n",
    "\\end{bmatrix}}$$"
   ]
  },
  {
   "cell_type": "code",
   "execution_count": 7,
   "id": "29f67cfb",
   "metadata": {},
   "outputs": [
    {
     "data": {
      "text/plain": [
       "array([[0.33333333, 0.33333333, 0.33333333],\n",
       "       [0.35      , 0.35      , 0.3       ],\n",
       "       [0.15      , 0.2       , 0.65      ]])"
      ]
     },
     "execution_count": 7,
     "metadata": {},
     "output_type": "execute_result"
    }
   ],
   "source": [
    "Q = np.array([[1/3 , 1/3 , 1/3], [35/100 , 35/100 , 30/100], [15/100 ,20/100 , 65/100]])\n",
    "Q\n",
    "# Display the array Q"
   ]
  },
  {
   "cell_type": "markdown",
   "id": "31b1c1ff",
   "metadata": {},
   "source": [
    "Also called **`stochastic matrixes`**, these matrixes have a remarkable property: Each line is a **`probability vector`**, its coefficients sum up to 1 = 100%"
   ]
  },
  {
   "cell_type": "markdown",
   "id": "eefd0b67",
   "metadata": {},
   "source": [
    "👉 Let's imagine Emily started in Paris **initially**  \n",
    "We'll create an initial_position array (1 row  ×  3 columns) storing those information"
   ]
  },
  {
   "cell_type": "code",
   "execution_count": 8,
   "id": "527bf97a",
   "metadata": {},
   "outputs": [
    {
     "data": {
      "text/plain": [
       "array([0.33333333, 0.33333333, 0.33333333])"
      ]
     },
     "execution_count": 8,
     "metadata": {},
     "output_type": "execute_result"
    }
   ],
   "source": [
    "#Complete\n",
    "initial_position = np.array([1/3 , 1/3 , 1/3])\n",
    "initial_position"
   ]
  },
  {
   "cell_type": "markdown",
   "id": "1ad8e3d4",
   "metadata": {},
   "source": [
    "❓ What the probability for Emily to be in paris/london/berlin in next step? Try to compute it, using dot products between\n",
    "- some slices of `Q`\n",
    "- and `initial_position`"
   ]
  },
  {
   "cell_type": "code",
   "execution_count": 9,
   "id": "b86a5af3",
   "metadata": {},
   "outputs": [
    {
     "data": {
      "text/plain": [
       "0.3333333333333333"
      ]
     },
     "execution_count": 9,
     "metadata": {},
     "output_type": "execute_result"
    }
   ],
   "source": [
    "np.dot(initial_position, Q[0])"
   ]
  },
  {
   "cell_type": "markdown",
   "id": "9ef51b26",
   "metadata": {},
   "source": []
  },
  {
   "cell_type": "markdown",
   "id": "959e8672",
   "metadata": {},
   "source": [
    "ℹ️ Now, let's assume you don't know where your cat was last seen, but you have some initial guess: She's **initially**:\n",
    "- in Paris with a probability equal to 30%\n",
    "- in London with a probability equal to 40%\n",
    "- in Berlin with a probability equal to 30%\n",
    "\n",
    "❓ Create your (1,3) array of `initial_position`  "
   ]
  },
  {
   "cell_type": "code",
   "execution_count": 10,
   "id": "8ee00210",
   "metadata": {
    "tags": []
   },
   "outputs": [
    {
     "data": {
      "text/plain": [
       "array([0.3, 0.4, 0.3])"
      ]
     },
     "execution_count": 10,
     "metadata": {},
     "output_type": "execute_result"
    }
   ],
   "source": [
    "initial_position = np.array([30/100, 40/100, 30/100])\n",
    "initial_position"
   ]
  },
  {
   "cell_type": "markdown",
   "id": "b0c738bb",
   "metadata": {},
   "source": [
    "❓ Compute the $ (1,3) $ array of probabilities `day_1` of the cat being in each city on ***day 1*** with an elegant math formula ❓\n",
    "\n"
   ]
  },
  {
   "cell_type": "code",
   "execution_count": 11,
   "id": "ea0ed3c5",
   "metadata": {
    "tags": []
   },
   "outputs": [
    {
     "data": {
      "text/plain": [
       "array([0.285, 0.3  , 0.415])"
      ]
     },
     "execution_count": 11,
     "metadata": {},
     "output_type": "execute_result"
    }
   ],
   "source": [
    "day_1 = np.matmul(initial_position, Q)\n",
    "day_1"
   ]
  },
  {
   "cell_type": "markdown",
   "id": "ee3d0827",
   "metadata": {},
   "source": []
  },
  {
   "cell_type": "markdown",
   "id": "e126a3ba",
   "metadata": {},
   "source": [
    "❓ What is the probability that Emily will be in Paris on day 2 ? What about London and Berlin ❓"
   ]
  },
  {
   "cell_type": "code",
   "execution_count": 12,
   "id": "cea3ecd4",
   "metadata": {
    "tags": []
   },
   "outputs": [
    {
     "data": {
      "text/plain": [
       "array([0.26225, 0.283  , 0.45475])"
      ]
     },
     "execution_count": 12,
     "metadata": {},
     "output_type": "execute_result"
    }
   ],
   "source": [
    "day_2 = np.matmul(day_1, Q)\n",
    "day_2"
   ]
  },
  {
   "cell_type": "markdown",
   "id": "80b7b228",
   "metadata": {},
   "source": [
    "### ⏳ 1.3) Where is the cat *n* days later ? "
   ]
  },
  {
   "cell_type": "markdown",
   "id": "1e3b6ed9",
   "metadata": {},
   "source": [
    "❓ Create a function `emily` which computes the probabilities of Emily being in Paris, Berlin and London after `n_days`❓\n",
    "\n",
    "* `Inputs` : `initial_position`, `transition_matrix` and `n_days`\n",
    "* `Output` : probabilities of each city"
   ]
  },
  {
   "cell_type": "code",
   "execution_count": 13,
   "id": "4f54c612",
   "metadata": {},
   "outputs": [],
   "source": [
    "def emily(initial_position, transition_matrix, n_days):\n",
    "    # COMPLETE\n",
    "    if n_days == 0 :\n",
    "        result = np.matmul(initial_position, transition_matrix)\n",
    "    else :\n",
    "        result = np.matmul(initial_position, transition_matrix)\n",
    "        n_days+=1\n",
    "        result = np.matmul(result, transition_matrix)\n",
    "\n",
    "#     if n_days == 0:\n",
    "#         result = np.matmul(initial_position, transition_matrix)\n",
    "#     else:\n",
    "#         result = np.matmul(initial_position, transition_matrix)\n",
    "#         n_days+=1\n",
    "#         result_0 = emily(initial_position, transition_matrix, n_days)\n",
    "#         result = np.matmul(result_0, transition_matrix)\n",
    "\n",
    "    return result\n"
   ]
  },
  {
   "cell_type": "markdown",
   "id": "63b85fcc",
   "metadata": {},
   "source": [
    "❓ So, where will Emily be in 100 days ❓"
   ]
  },
  {
   "cell_type": "code",
   "execution_count": 14,
   "id": "bb5e9011",
   "metadata": {
    "tags": []
   },
   "outputs": [
    {
     "data": {
      "text/plain": [
       "array([0.25686111, 0.27902778, 0.46411111])"
      ]
     },
     "execution_count": 14,
     "metadata": {},
     "output_type": "execute_result"
    }
   ],
   "source": [
    "emily(np.array([10/100, 50/100, 40/100]), Q, 100)"
   ]
  },
  {
   "cell_type": "code",
   "execution_count": 33,
   "id": "c5c99913",
   "metadata": {
    "tags": []
   },
   "outputs": [
    {
     "data": {
      "text/plain": [
       "array([0.257   , 0.279125, 0.463875])"
      ]
     },
     "execution_count": 33,
     "metadata": {},
     "output_type": "execute_result"
    }
   ],
   "source": [
    "emily(np.array([60/100, 5/100, 35/100]), Q, 100)"
   ]
  },
  {
   "cell_type": "markdown",
   "id": "90668a53",
   "metadata": {},
   "source": [
    "### 📈 1.4) Visualising the probabilities overtime"
   ]
  },
  {
   "cell_type": "markdown",
   "id": "22e91f5a",
   "metadata": {},
   "source": [
    "❓ Plot the probabilities of being in each city over time\n",
    "\n",
    "😉 This last question is non-guided !"
   ]
  },
  {
   "cell_type": "code",
   "execution_count": 55,
   "id": "9e623d54",
   "metadata": {},
   "outputs": [],
   "source": [
    "def emily_over_time(initial_position, transition_matrix, n_days):\n",
    "    \n",
    "    \n",
    "    paris = []\n",
    "    london = []\n",
    "    berlin = []\n",
    "    \n",
    "    \n",
    "    \n",
    "    ## Computing the probabilities each day\n",
    "    #YOUR CODE\n",
    "    for i in range (n_days):\n",
    "        paris.append(emily(initial_position, transition_matrix, i)[0])\n",
    "        london.append(emily(initial_position, transition_matrix, i)[1])\n",
    "        berlin.append(emily(initial_position, transition_matrix, i)[2])\n",
    "     \n",
    "\n",
    "\n",
    "    paris = {'paris' : paris , 'n_days' : i}\n",
    "    paris = pd.DataFrame(paris)\n",
    "    london = {'london' : london , 'n_days' : i}\n",
    "    london = pd.DataFrame(london)\n",
    "    berlin = {'berlin' : berlin, 'n_days' : i}\n",
    "    berlin = pd.DataFrame(berlin)\n",
    "\n",
    "    sns.lineplot(data = paris, x = \"n_days\", y = \"proba\", legend=True).set_title(\"Evolution du nombre de participants\")\n",
    "    sns.lineplot(data = london, x = \"n_days\", y = \"proba\", legend=True)\n",
    "    sns.lineplot(data = berlin, x = \"n_days\", y = \"proba\", legend=True)\n",
    "    plt.legend(labels=[\"Total\",\"Homme\",\"Femme\"])\n",
    "\n",
    "    return\n",
    "# convert data into a data frame \n",
    "\n",
    "    ## Visualing\n",
    "    #YOUR CODE\n",
    "    \n",
    " "
   ]
  },
  {
   "cell_type": "code",
   "execution_count": 32,
   "id": "53a2adf6",
   "metadata": {
    "tags": []
   },
   "outputs": [
    {
     "data": {
      "text/plain": [
       "([0.26999999999999996,\n",
       "  0.25699999999999995,\n",
       "  0.25699999999999995,\n",
       "  0.25699999999999995,\n",
       "  0.25699999999999995,\n",
       "  0.25699999999999995,\n",
       "  0.25699999999999995,\n",
       "  0.25699999999999995,\n",
       "  0.25699999999999995,\n",
       "  0.25699999999999995,\n",
       "  0.25699999999999995,\n",
       "  0.25699999999999995,\n",
       "  0.25699999999999995,\n",
       "  0.25699999999999995,\n",
       "  0.25699999999999995,\n",
       "  0.25699999999999995,\n",
       "  0.25699999999999995,\n",
       "  0.25699999999999995,\n",
       "  0.25699999999999995,\n",
       "  0.25699999999999995,\n",
       "  0.25699999999999995,\n",
       "  0.25699999999999995,\n",
       "  0.25699999999999995,\n",
       "  0.25699999999999995,\n",
       "  0.25699999999999995,\n",
       "  0.25699999999999995,\n",
       "  0.25699999999999995,\n",
       "  0.25699999999999995,\n",
       "  0.25699999999999995,\n",
       "  0.25699999999999995,\n",
       "  0.25699999999999995,\n",
       "  0.25699999999999995,\n",
       "  0.25699999999999995,\n",
       "  0.25699999999999995,\n",
       "  0.25699999999999995,\n",
       "  0.25699999999999995,\n",
       "  0.25699999999999995,\n",
       "  0.25699999999999995,\n",
       "  0.25699999999999995,\n",
       "  0.25699999999999995,\n",
       "  0.25699999999999995,\n",
       "  0.25699999999999995,\n",
       "  0.25699999999999995,\n",
       "  0.25699999999999995,\n",
       "  0.25699999999999995,\n",
       "  0.25699999999999995,\n",
       "  0.25699999999999995,\n",
       "  0.25699999999999995,\n",
       "  0.25699999999999995,\n",
       "  0.25699999999999995,\n",
       "  0.25699999999999995,\n",
       "  0.25699999999999995,\n",
       "  0.25699999999999995,\n",
       "  0.25699999999999995,\n",
       "  0.25699999999999995,\n",
       "  0.25699999999999995,\n",
       "  0.25699999999999995,\n",
       "  0.25699999999999995,\n",
       "  0.25699999999999995,\n",
       "  0.25699999999999995,\n",
       "  0.25699999999999995,\n",
       "  0.25699999999999995,\n",
       "  0.25699999999999995,\n",
       "  0.25699999999999995,\n",
       "  0.25699999999999995,\n",
       "  0.25699999999999995,\n",
       "  0.25699999999999995,\n",
       "  0.25699999999999995,\n",
       "  0.25699999999999995,\n",
       "  0.25699999999999995,\n",
       "  0.25699999999999995,\n",
       "  0.25699999999999995,\n",
       "  0.25699999999999995,\n",
       "  0.25699999999999995,\n",
       "  0.25699999999999995,\n",
       "  0.25699999999999995,\n",
       "  0.25699999999999995,\n",
       "  0.25699999999999995,\n",
       "  0.25699999999999995,\n",
       "  0.25699999999999995,\n",
       "  0.25699999999999995,\n",
       "  0.25699999999999995,\n",
       "  0.25699999999999995,\n",
       "  0.25699999999999995,\n",
       "  0.25699999999999995,\n",
       "  0.25699999999999995,\n",
       "  0.25699999999999995,\n",
       "  0.25699999999999995,\n",
       "  0.25699999999999995,\n",
       "  0.25699999999999995,\n",
       "  0.25699999999999995,\n",
       "  0.25699999999999995,\n",
       "  0.25699999999999995,\n",
       "  0.25699999999999995,\n",
       "  0.25699999999999995,\n",
       "  0.25699999999999995,\n",
       "  0.25699999999999995,\n",
       "  0.25699999999999995,\n",
       "  0.25699999999999995,\n",
       "  0.25699999999999995],\n",
       " [0.2875,\n",
       "  0.27912499999999996,\n",
       "  0.27912499999999996,\n",
       "  0.27912499999999996,\n",
       "  0.27912499999999996,\n",
       "  0.27912499999999996,\n",
       "  0.27912499999999996,\n",
       "  0.27912499999999996,\n",
       "  0.27912499999999996,\n",
       "  0.27912499999999996,\n",
       "  0.27912499999999996,\n",
       "  0.27912499999999996,\n",
       "  0.27912499999999996,\n",
       "  0.27912499999999996,\n",
       "  0.27912499999999996,\n",
       "  0.27912499999999996,\n",
       "  0.27912499999999996,\n",
       "  0.27912499999999996,\n",
       "  0.27912499999999996,\n",
       "  0.27912499999999996,\n",
       "  0.27912499999999996,\n",
       "  0.27912499999999996,\n",
       "  0.27912499999999996,\n",
       "  0.27912499999999996,\n",
       "  0.27912499999999996,\n",
       "  0.27912499999999996,\n",
       "  0.27912499999999996,\n",
       "  0.27912499999999996,\n",
       "  0.27912499999999996,\n",
       "  0.27912499999999996,\n",
       "  0.27912499999999996,\n",
       "  0.27912499999999996,\n",
       "  0.27912499999999996,\n",
       "  0.27912499999999996,\n",
       "  0.27912499999999996,\n",
       "  0.27912499999999996,\n",
       "  0.27912499999999996,\n",
       "  0.27912499999999996,\n",
       "  0.27912499999999996,\n",
       "  0.27912499999999996,\n",
       "  0.27912499999999996,\n",
       "  0.27912499999999996,\n",
       "  0.27912499999999996,\n",
       "  0.27912499999999996,\n",
       "  0.27912499999999996,\n",
       "  0.27912499999999996,\n",
       "  0.27912499999999996,\n",
       "  0.27912499999999996,\n",
       "  0.27912499999999996,\n",
       "  0.27912499999999996,\n",
       "  0.27912499999999996,\n",
       "  0.27912499999999996,\n",
       "  0.27912499999999996,\n",
       "  0.27912499999999996,\n",
       "  0.27912499999999996,\n",
       "  0.27912499999999996,\n",
       "  0.27912499999999996,\n",
       "  0.27912499999999996,\n",
       "  0.27912499999999996,\n",
       "  0.27912499999999996,\n",
       "  0.27912499999999996,\n",
       "  0.27912499999999996,\n",
       "  0.27912499999999996,\n",
       "  0.27912499999999996,\n",
       "  0.27912499999999996,\n",
       "  0.27912499999999996,\n",
       "  0.27912499999999996,\n",
       "  0.27912499999999996,\n",
       "  0.27912499999999996,\n",
       "  0.27912499999999996,\n",
       "  0.27912499999999996,\n",
       "  0.27912499999999996,\n",
       "  0.27912499999999996,\n",
       "  0.27912499999999996,\n",
       "  0.27912499999999996,\n",
       "  0.27912499999999996,\n",
       "  0.27912499999999996,\n",
       "  0.27912499999999996,\n",
       "  0.27912499999999996,\n",
       "  0.27912499999999996,\n",
       "  0.27912499999999996,\n",
       "  0.27912499999999996,\n",
       "  0.27912499999999996,\n",
       "  0.27912499999999996,\n",
       "  0.27912499999999996,\n",
       "  0.27912499999999996,\n",
       "  0.27912499999999996,\n",
       "  0.27912499999999996,\n",
       "  0.27912499999999996,\n",
       "  0.27912499999999996,\n",
       "  0.27912499999999996,\n",
       "  0.27912499999999996,\n",
       "  0.27912499999999996,\n",
       "  0.27912499999999996,\n",
       "  0.27912499999999996,\n",
       "  0.27912499999999996,\n",
       "  0.27912499999999996,\n",
       "  0.27912499999999996,\n",
       "  0.27912499999999996,\n",
       "  0.27912499999999996],\n",
       " [0.4425,\n",
       "  0.463875,\n",
       "  0.463875,\n",
       "  0.463875,\n",
       "  0.463875,\n",
       "  0.463875,\n",
       "  0.463875,\n",
       "  0.463875,\n",
       "  0.463875,\n",
       "  0.463875,\n",
       "  0.463875,\n",
       "  0.463875,\n",
       "  0.463875,\n",
       "  0.463875,\n",
       "  0.463875,\n",
       "  0.463875,\n",
       "  0.463875,\n",
       "  0.463875,\n",
       "  0.463875,\n",
       "  0.463875,\n",
       "  0.463875,\n",
       "  0.463875,\n",
       "  0.463875,\n",
       "  0.463875,\n",
       "  0.463875,\n",
       "  0.463875,\n",
       "  0.463875,\n",
       "  0.463875,\n",
       "  0.463875,\n",
       "  0.463875,\n",
       "  0.463875,\n",
       "  0.463875,\n",
       "  0.463875,\n",
       "  0.463875,\n",
       "  0.463875,\n",
       "  0.463875,\n",
       "  0.463875,\n",
       "  0.463875,\n",
       "  0.463875,\n",
       "  0.463875,\n",
       "  0.463875,\n",
       "  0.463875,\n",
       "  0.463875,\n",
       "  0.463875,\n",
       "  0.463875,\n",
       "  0.463875,\n",
       "  0.463875,\n",
       "  0.463875,\n",
       "  0.463875,\n",
       "  0.463875,\n",
       "  0.463875,\n",
       "  0.463875,\n",
       "  0.463875,\n",
       "  0.463875,\n",
       "  0.463875,\n",
       "  0.463875,\n",
       "  0.463875,\n",
       "  0.463875,\n",
       "  0.463875,\n",
       "  0.463875,\n",
       "  0.463875,\n",
       "  0.463875,\n",
       "  0.463875,\n",
       "  0.463875,\n",
       "  0.463875,\n",
       "  0.463875,\n",
       "  0.463875,\n",
       "  0.463875,\n",
       "  0.463875,\n",
       "  0.463875,\n",
       "  0.463875,\n",
       "  0.463875,\n",
       "  0.463875,\n",
       "  0.463875,\n",
       "  0.463875,\n",
       "  0.463875,\n",
       "  0.463875,\n",
       "  0.463875,\n",
       "  0.463875,\n",
       "  0.463875,\n",
       "  0.463875,\n",
       "  0.463875,\n",
       "  0.463875,\n",
       "  0.463875,\n",
       "  0.463875,\n",
       "  0.463875,\n",
       "  0.463875,\n",
       "  0.463875,\n",
       "  0.463875,\n",
       "  0.463875,\n",
       "  0.463875,\n",
       "  0.463875,\n",
       "  0.463875,\n",
       "  0.463875,\n",
       "  0.463875,\n",
       "  0.463875,\n",
       "  0.463875,\n",
       "  0.463875,\n",
       "  0.463875,\n",
       "  0.463875])"
      ]
     },
     "execution_count": 32,
     "metadata": {},
     "output_type": "execute_result"
    }
   ],
   "source": [
    "emily_over_time(np.array([60/100, 5/100, 35/100]), Q, 100)"
   ]
  },
  {
   "cell_type": "markdown",
   "id": "bcc9a86b",
   "metadata": {},
   "source": [
    "## 🥡 2) Takeaways"
   ]
  },
  {
   "cell_type": "markdown",
   "id": "d21c4564",
   "metadata": {},
   "source": [
    "❤️ After `Emily in Paris`, we'll most likely have `Emily in Berlin` in the long run !\n",
    "\n",
    "❗️ ***Not all the Markov Chains converge to a stable state ❗️*** Think about a hamster who lives between two states 0 and 1 and moves from one to the other with probability 1 each day ! \n",
    "\n",
    "💡 Did you know? \n",
    "- Google computes the probability that from one page, you click on other pages ! \n",
    "- Its secret algorithm is based on Markov Chains (and of course advanced refinements which made the founders billionaires...!)\n",
    "- 📚 `Google Search Engine` : [Analytics Vidhya article - Google Page Rank and Markov Chains](https://medium.com/analytics-vidhya/google-page-rank-and-markov-chains-d65717b98f9c)\n"
   ]
  },
  {
   "cell_type": "markdown",
   "id": "0415a563",
   "metadata": {},
   "source": [
    "🏁 Congratulations !\n",
    "\n",
    "💾 Do not forget to `save`your notebook\n",
    "\n",
    "😁 No panic if Markov Chains are still not clear for you. This challenge was more like an introduction to this topic, however for Data Analyst and Junior Data Scientists or Dev IA , you won't need necessarily use it :) \n",
    "\n",
    "🥳 Consider that it was a good opportunity to manipulate tools from `Linear Algebra` such as `matrixes` and tools from `Probabilty Theory` such as `probability distributions` !"
   ]
  },
  {
   "cell_type": "code",
   "execution_count": null,
   "id": "5b6c0c49",
   "metadata": {},
   "outputs": [],
   "source": []
  },
  {
   "cell_type": "code",
   "execution_count": 63,
   "id": "e4526fb0",
   "metadata": {},
   "outputs": [
    {
     "data": {
      "text/plain": [
       "<AxesSubplot:title={'center':'Evolution du nombre de participants'}, xlabel='n_days', ylabel='proba'>"
      ]
     },
     "execution_count": 63,
     "metadata": {},
     "output_type": "execute_result"
    },
    {
     "data": {
      "image/png": "[encoded data removed]",
      "text/plain": [
       "<Figure size 432x288 with 1 Axes>"
      ]
     },
     "metadata": {
      "needs_background": "light"
     },
     "output_type": "display_data"
    }
   ],
   "source": [
    "paris = []\n",
    "london = []\n",
    "berlin = []\n",
    "# n_days = 10    \n",
    "    \n",
    "    \n",
    "    ## Computing the probabilities each day\n",
    "    #YOUR CODE\n",
    "for i in range (0, 10):\n",
    "    paris.append(emily(initial_position, Q, i)[0])\n",
    "    london.append(emily(initial_position, Q, i)[1])\n",
    "    berlin.append(emily(initial_position, Q, i)[2])\n",
    "     \n",
    "\n",
    "liste = []\n",
    "for i in range (1, 11):\n",
    "    liste.append(i)\n",
    "    \n",
    "liste\n",
    "paris = {'proba' : paris , 'n_days' :liste}\n",
    "paris = pd.DataFrame(paris)\n",
    "london = {'proba' : london , 'n_days' : liste}\n",
    "london = pd.DataFrame(london)\n",
    "berlin = {'proba' : berlin, 'n_days' : liste}\n",
    "berlin = pd.DataFrame(berlin)\n",
    "\n",
    "sns.lineplot(data = paris, x = \"n_days\", y = \"proba\", legend=True).set_title(\"Evolution du nombre de participants\")\n",
    "sns.lineplot(data = london, x = \"n_days\", y = \"proba\", legend=True)\n",
    "sns.lineplot(data = berlin, x = \"n_days\", y = \"proba\", legend=True)\n",
    "# plt.legend(labels=[\"Total\",\"Homme\",\"Femme\"])"
   ]
  },
  {
   "cell_type": "code",
   "execution_count": 54,
   "id": "1c9c4530",
   "metadata": {},
   "outputs": [
    {
     "data": {
      "text/html": [
       "<div>\n",
       "<style scoped>\n",
       "    .dataframe tbody tr th:only-of-type {\n",
       "        vertical-align: middle;\n",
       "    }\n",
       "\n",
       "    .dataframe tbody tr th {\n",
       "        vertical-align: top;\n",
       "    }\n",
       "\n",
       "    .dataframe thead th {\n",
       "        text-align: right;\n",
       "    }\n",
       "</style>\n",
       "<table border=\"1\" class=\"dataframe\">\n",
       "  <thead>\n",
       "    <tr style=\"text-align: right;\">\n",
       "      <th></th>\n",
       "      <th>proba</th>\n",
       "      <th>n_days</th>\n",
       "    </tr>\n",
       "  </thead>\n",
       "  <tbody>\n",
       "    <tr>\n",
       "      <th>0</th>\n",
       "      <td>0.28500</td>\n",
       "      <td>9</td>\n",
       "    </tr>\n",
       "    <tr>\n",
       "      <th>1</th>\n",
       "      <td>0.26225</td>\n",
       "      <td>9</td>\n",
       "    </tr>\n",
       "    <tr>\n",
       "      <th>2</th>\n",
       "      <td>0.26225</td>\n",
       "      <td>9</td>\n",
       "    </tr>\n",
       "    <tr>\n",
       "      <th>3</th>\n",
       "      <td>0.26225</td>\n",
       "      <td>9</td>\n",
       "    </tr>\n",
       "    <tr>\n",
       "      <th>4</th>\n",
       "      <td>0.26225</td>\n",
       "      <td>9</td>\n",
       "    </tr>\n",
       "    <tr>\n",
       "      <th>5</th>\n",
       "      <td>0.26225</td>\n",
       "      <td>9</td>\n",
       "    </tr>\n",
       "    <tr>\n",
       "      <th>6</th>\n",
       "      <td>0.26225</td>\n",
       "      <td>9</td>\n",
       "    </tr>\n",
       "    <tr>\n",
       "      <th>7</th>\n",
       "      <td>0.26225</td>\n",
       "      <td>9</td>\n",
       "    </tr>\n",
       "    <tr>\n",
       "      <th>8</th>\n",
       "      <td>0.26225</td>\n",
       "      <td>9</td>\n",
       "    </tr>\n",
       "    <tr>\n",
       "      <th>9</th>\n",
       "      <td>0.26225</td>\n",
       "      <td>9</td>\n",
       "    </tr>\n",
       "  </tbody>\n",
       "</table>\n",
       "</div>"
      ],
      "text/plain": [
       "     proba  n_days\n",
       "0  0.28500       9\n",
       "1  0.26225       9\n",
       "2  0.26225       9\n",
       "3  0.26225       9\n",
       "4  0.26225       9\n",
       "5  0.26225       9\n",
       "6  0.26225       9\n",
       "7  0.26225       9\n",
       "8  0.26225       9\n",
       "9  0.26225       9"
      ]
     },
     "execution_count": 54,
     "metadata": {},
     "output_type": "execute_result"
    }
   ],
   "source": [
    "paris"
   ]
  },
  {
   "cell_type": "code",
   "execution_count": 47,
   "id": "892535e0",
   "metadata": {},
   "outputs": [
    {
     "data": {
      "text/html": [
       "<div>\n",
       "<style scoped>\n",
       "    .dataframe tbody tr th:only-of-type {\n",
       "        vertical-align: middle;\n",
       "    }\n",
       "\n",
       "    .dataframe tbody tr th {\n",
       "        vertical-align: top;\n",
       "    }\n",
       "\n",
       "    .dataframe thead th {\n",
       "        text-align: right;\n",
       "    }\n",
       "</style>\n",
       "<table border=\"1\" class=\"dataframe\">\n",
       "  <thead>\n",
       "    <tr style=\"text-align: right;\">\n",
       "      <th></th>\n",
       "      <th>proba</th>\n",
       "      <th>n_days</th>\n",
       "    </tr>\n",
       "  </thead>\n",
       "  <tbody>\n",
       "    <tr>\n",
       "      <th>0</th>\n",
       "      <td>0.41500</td>\n",
       "      <td>9</td>\n",
       "    </tr>\n",
       "    <tr>\n",
       "      <th>1</th>\n",
       "      <td>0.45475</td>\n",
       "      <td>9</td>\n",
       "    </tr>\n",
       "    <tr>\n",
       "      <th>2</th>\n",
       "      <td>0.45475</td>\n",
       "      <td>9</td>\n",
       "    </tr>\n",
       "    <tr>\n",
       "      <th>3</th>\n",
       "      <td>0.45475</td>\n",
       "      <td>9</td>\n",
       "    </tr>\n",
       "    <tr>\n",
       "      <th>4</th>\n",
       "      <td>0.45475</td>\n",
       "      <td>9</td>\n",
       "    </tr>\n",
       "    <tr>\n",
       "      <th>5</th>\n",
       "      <td>0.45475</td>\n",
       "      <td>9</td>\n",
       "    </tr>\n",
       "    <tr>\n",
       "      <th>6</th>\n",
       "      <td>0.45475</td>\n",
       "      <td>9</td>\n",
       "    </tr>\n",
       "    <tr>\n",
       "      <th>7</th>\n",
       "      <td>0.45475</td>\n",
       "      <td>9</td>\n",
       "    </tr>\n",
       "    <tr>\n",
       "      <th>8</th>\n",
       "      <td>0.45475</td>\n",
       "      <td>9</td>\n",
       "    </tr>\n",
       "    <tr>\n",
       "      <th>9</th>\n",
       "      <td>0.45475</td>\n",
       "      <td>9</td>\n",
       "    </tr>\n",
       "  </tbody>\n",
       "</table>\n",
       "</div>"
      ],
      "text/plain": [
       "     proba  n_days\n",
       "0  0.41500       9\n",
       "1  0.45475       9\n",
       "2  0.45475       9\n",
       "3  0.45475       9\n",
       "4  0.45475       9\n",
       "5  0.45475       9\n",
       "6  0.45475       9\n",
       "7  0.45475       9\n",
       "8  0.45475       9\n",
       "9  0.45475       9"
      ]
     },
     "execution_count": 47,
     "metadata": {},
     "output_type": "execute_result"
    }
   ],
   "source": [
    "berlin"
   ]
  },
  {
   "cell_type": "code",
   "execution_count": 48,
   "id": "e45941af",
   "metadata": {},
   "outputs": [
    {
     "data": {
      "text/html": [
       "<div>\n",
       "<style scoped>\n",
       "    .dataframe tbody tr th:only-of-type {\n",
       "        vertical-align: middle;\n",
       "    }\n",
       "\n",
       "    .dataframe tbody tr th {\n",
       "        vertical-align: top;\n",
       "    }\n",
       "\n",
       "    .dataframe thead th {\n",
       "        text-align: right;\n",
       "    }\n",
       "</style>\n",
       "<table border=\"1\" class=\"dataframe\">\n",
       "  <thead>\n",
       "    <tr style=\"text-align: right;\">\n",
       "      <th></th>\n",
       "      <th>proba</th>\n",
       "      <th>n_days</th>\n",
       "    </tr>\n",
       "  </thead>\n",
       "  <tbody>\n",
       "    <tr>\n",
       "      <th>0</th>\n",
       "      <td>0.300</td>\n",
       "      <td>9</td>\n",
       "    </tr>\n",
       "    <tr>\n",
       "      <th>1</th>\n",
       "      <td>0.283</td>\n",
       "      <td>9</td>\n",
       "    </tr>\n",
       "    <tr>\n",
       "      <th>2</th>\n",
       "      <td>0.283</td>\n",
       "      <td>9</td>\n",
       "    </tr>\n",
       "    <tr>\n",
       "      <th>3</th>\n",
       "      <td>0.283</td>\n",
       "      <td>9</td>\n",
       "    </tr>\n",
       "    <tr>\n",
       "      <th>4</th>\n",
       "      <td>0.283</td>\n",
       "      <td>9</td>\n",
       "    </tr>\n",
       "    <tr>\n",
       "      <th>5</th>\n",
       "      <td>0.283</td>\n",
       "      <td>9</td>\n",
       "    </tr>\n",
       "    <tr>\n",
       "      <th>6</th>\n",
       "      <td>0.283</td>\n",
       "      <td>9</td>\n",
       "    </tr>\n",
       "    <tr>\n",
       "      <th>7</th>\n",
       "      <td>0.283</td>\n",
       "      <td>9</td>\n",
       "    </tr>\n",
       "    <tr>\n",
       "      <th>8</th>\n",
       "      <td>0.283</td>\n",
       "      <td>9</td>\n",
       "    </tr>\n",
       "    <tr>\n",
       "      <th>9</th>\n",
       "      <td>0.283</td>\n",
       "      <td>9</td>\n",
       "    </tr>\n",
       "  </tbody>\n",
       "</table>\n",
       "</div>"
      ],
      "text/plain": [
       "   proba  n_days\n",
       "0  0.300       9\n",
       "1  0.283       9\n",
       "2  0.283       9\n",
       "3  0.283       9\n",
       "4  0.283       9\n",
       "5  0.283       9\n",
       "6  0.283       9\n",
       "7  0.283       9\n",
       "8  0.283       9\n",
       "9  0.283       9"
      ]
     },
     "execution_count": 48,
     "metadata": {},
     "output_type": "execute_result"
    }
   ],
   "source": [
    "london"
   ]
  },
  {
   "cell_type": "code",
   "execution_count": 56,
   "id": "d9d79814",
   "metadata": {},
   "outputs": [
    {
     "data": {
      "text/plain": [
       "[1, 2, 3, 4, 5, 6, 7, 8, 9, 10]"
      ]
     },
     "execution_count": 56,
     "metadata": {},
     "output_type": "execute_result"
    }
   ],
   "source": [
    "liste = []\n",
    "for i in range (1, 11):\n",
    "    liste.append(i)\n",
    "    \n",
    "liste"
   ]
  },
  {
   "cell_type": "code",
   "execution_count": null,
   "id": "686c6ef5",
   "metadata": {},
   "outputs": [],
   "source": []
  }
 ],
 "metadata": {
  "kernelspec": {
   "display_name": "Python 3 (ipykernel)",
   "language": "python",
   "name": "python3"
  },
  "language_info": {
   "codemirror_mode": {
    "name": "ipython",
    "version": 3
   },
   "file_extension": ".py",
   "mimetype": "text/x-python",
   "name": "python",
   "nbconvert_exporter": "python",
   "pygments_lexer": "ipython3",
   "version": "3.9.12"
  },
  "vscode": {
   "interpreter": {
    "hash": "cf92aa13fedf815d5c8dd192b8d835913fde3e8bc926b2a0ad6cc74ef2ba3ca2"
   }
  }
 },
 "nbformat": 4,
 "nbformat_minor": 5
}
